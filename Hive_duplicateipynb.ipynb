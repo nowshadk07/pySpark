{
  "nbformat": 4,
  "nbformat_minor": 0,
  "metadata": {
    "colab": {
      "provenance": []
    },
    "kernelspec": {
      "name": "python3",
      "display_name": "Python 3"
    },
    "language_info": {
      "name": "python"
    }
  },
  "cells": [
    {
      "cell_type": "markdown",
      "source": [
        "To find duplicate values in a Hive table and a PySpark DataFrame, you can use various methods. Here are some approaches for both Hive and PySpark"
      ],
      "metadata": {
        "id": "WPHmeU9NDaWE"
      }
    },
    {
      "cell_type": "code",
      "execution_count": null,
      "metadata": {
        "id": "ADDEhuFxDEwb"
      },
      "outputs": [],
      "source": [
        "SELECT column_name, COUNT(*) as count\n",
        "FROM your_hive_table\n",
        "GROUP BY column_name\n",
        "HAVING COUNT(*) > 1;"
      ]
    },
    {
      "cell_type": "code",
      "source": [
        "from pyspark.sql import SparkSession\n",
        "\n",
        "# Initialize a Spark session\n",
        "spark = SparkSession.builder.appName(\"FindDuplicates\").getOrCreate()\n",
        "\n",
        "# Read your Hive table into a DataFrame\n",
        "hive_table_name = \"your_hive_table\"\n",
        "df = spark.sql(f\"SELECT * FROM {hive_table_name}\")\n",
        "\n",
        "# Identify and filter duplicate rows based on a specific column\n",
        "column_name = \"your_column\"\n",
        "duplicate_rows = df.groupBy(column_name).count().filter(\"count > 1\")\n",
        "duplicate_rows.show()"
      ],
      "metadata": {
        "id": "Hvi4r6j-DiQG"
      },
      "execution_count": null,
      "outputs": []
    }
  ]
}