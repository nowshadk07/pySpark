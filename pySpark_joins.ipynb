{
  "nbformat": 4,
  "nbformat_minor": 0,
  "metadata": {
    "colab": {
      "provenance": []
    },
    "kernelspec": {
      "name": "python3",
      "display_name": "Python 3"
    },
    "language_info": {
      "name": "python"
    }
  },
  "cells": [
    {
      "cell_type": "code",
      "execution_count": 1,
      "metadata": {
        "id": "HAbtOFxg-s-C"
      },
      "outputs": [],
      "source": [
        "!apt-get install openjdk-8-jdk-headless -qq > /dev/null\n",
        "!wget -q http://archive.apache.org/dist/spark/spark-3.1.1/spark-3.1.1-bin-hadoop3.2.tgz\n",
        "!tar xf spark-3.1.1-bin-hadoop3.2.tgz\n",
        "!pip install -q findspark\n",
        "import os\n",
        "os.environ[\"JAVA_HOME\"] = \"/usr/lib/jvm/java-8-openjdk-amd64\"\n",
        "os.environ[\"SPARK_HOME\"] = \"/content/spark-3.1.1-bin-hadoop3.2\"\n",
        "import findspark\n",
        "findspark.init()\n",
        "from pyspark.sql import SparkSession\n",
        "spark = SparkSession.builder.master(\"local[*]\").getOrCreate()\n"
      ]
    },
    {
      "cell_type": "code",
      "source": [
        "employee_data=[(10,\"Raj\",\"1999\",\"100\",\"M\",2000),\n",
        "               (20,\"Rahul\",\"2002\",\"200\",\"M\",8000),\n",
        "               (30,\"Raghav\",\"2018\",\"100\",\"M\",6000),\n",
        "               (40,\"Raja\",\"2004\",\"100\",\"F\",7000),\n",
        "               (50,\"Rama\",\"2008\",\"400\",\"F\",1000),\n",
        "               (60,\"Rasul\",\"2014\",\"500\",\"M\",5000)]\n",
        "\n",
        "employee_schema=[\"employee_id\",\"name\",\"doj\",\"employee_dept_id\",\"gender\",\"salary\"]\n",
        "\n",
        "employeeDF = spark.createDataFrame(data=employee_data, schema=employee_schema)"
      ],
      "metadata": {
        "id": "9bFSgMjz_bUI"
      },
      "execution_count": 5,
      "outputs": []
    },
    {
      "cell_type": "code",
      "source": [
        "department_data=[('HR',100),\n",
        "                 ('Supply',200),\n",
        "                 ('Sales',300),\n",
        "                 ('Stock',400)]\n",
        "department_schema=[\"dept_name\",\"dept_id\"]\n",
        "\n",
        "departmentDF=spark.createDataFrame(data=department_data, schema=department_schema)"
      ],
      "metadata": {
        "id": "5NccXApNBoaD"
      },
      "execution_count": 10,
      "outputs": []
    },
    {
      "cell_type": "code",
      "source": [
        "employeeDF.show()"
      ],
      "metadata": {
        "colab": {
          "base_uri": "https://localhost:8080/"
        },
        "id": "xZQ_xTIuCgDe",
        "outputId": "856f2356-eb11-48ab-a6a9-d4048651928a"
      },
      "execution_count": 8,
      "outputs": [
        {
          "output_type": "stream",
          "name": "stdout",
          "text": [
            "+-----------+------+----+----------------+------+------+\n",
            "|employee_id|  name| doj|employee_dept_id|gender|salary|\n",
            "+-----------+------+----+----------------+------+------+\n",
            "|         10|   Raj|1999|             100|     M|  2000|\n",
            "|         20| Rahul|2002|             200|     M|  8000|\n",
            "|         30|Raghav|2018|             100|     M|  6000|\n",
            "|         40|  Raja|2004|             100|     F|  7000|\n",
            "|         50|  Rama|2008|             400|     F|  1000|\n",
            "|         60| Rasul|2014|             500|     M|  5000|\n",
            "+-----------+------+----+----------------+------+------+\n",
            "\n"
          ]
        }
      ]
    },
    {
      "cell_type": "code",
      "source": [
        "departmentDF.show()"
      ],
      "metadata": {
        "colab": {
          "base_uri": "https://localhost:8080/"
        },
        "id": "HP4inXHzDQ5E",
        "outputId": "f4bbf352-7049-4ff5-fc5d-b72387f30813"
      },
      "execution_count": 12,
      "outputs": [
        {
          "output_type": "stream",
          "name": "stdout",
          "text": [
            "+---------+-------+\n",
            "|dept_name|dept_id|\n",
            "+---------+-------+\n",
            "|       HR|    100|\n",
            "|   Supply|    200|\n",
            "|    Sales|    300|\n",
            "|    Stock|    400|\n",
            "+---------+-------+\n",
            "\n"
          ]
        }
      ]
    },
    {
      "cell_type": "markdown",
      "source": [
        "# Inner Join"
      ],
      "metadata": {
        "id": "4DiAVXy5EdMA"
      }
    },
    {
      "cell_type": "code",
      "source": [
        "df_join= employeeDF.join(departmentDF, employeeDF.employee_dept_id==departmentDF.dept_id,\"inner\")"
      ],
      "metadata": {
        "id": "7Iq1oZCzEEdA"
      },
      "execution_count": 19,
      "outputs": []
    },
    {
      "cell_type": "code",
      "source": [
        "df_join.show()"
      ],
      "metadata": {
        "colab": {
          "base_uri": "https://localhost:8080/"
        },
        "id": "vxEtr3YKF4oZ",
        "outputId": "7c795507-9e36-453d-b39b-d719e8b95ac8"
      },
      "execution_count": 20,
      "outputs": [
        {
          "output_type": "stream",
          "name": "stdout",
          "text": [
            "+-----------+------+----+----------------+------+------+---------+-------+\n",
            "|employee_id|  name| doj|employee_dept_id|gender|salary|dept_name|dept_id|\n",
            "+-----------+------+----+----------------+------+------+---------+-------+\n",
            "|         10|   Raj|1999|             100|     M|  2000|       HR|    100|\n",
            "|         30|Raghav|2018|             100|     M|  6000|       HR|    100|\n",
            "|         40|  Raja|2004|             100|     F|  7000|       HR|    100|\n",
            "|         20| Rahul|2002|             200|     M|  8000|   Supply|    200|\n",
            "|         50|  Rama|2008|             400|     F|  1000|    Stock|    400|\n",
            "+-----------+------+----+----------------+------+------+---------+-------+\n",
            "\n"
          ]
        }
      ]
    },
    {
      "cell_type": "markdown",
      "source": [
        "# Left Join\n"
      ],
      "metadata": {
        "id": "A587-2e8HCMR"
      }
    },
    {
      "cell_type": "code",
      "source": [
        "df_join= employeeDF.join(departmentDF, employeeDF.employee_dept_id==departmentDF.dept_id,\"left\")"
      ],
      "metadata": {
        "id": "gOzS6NK6GZwl"
      },
      "execution_count": 21,
      "outputs": []
    },
    {
      "cell_type": "code",
      "source": [
        "df_join.show()"
      ],
      "metadata": {
        "colab": {
          "base_uri": "https://localhost:8080/"
        },
        "id": "zBL_1aPvHFoY",
        "outputId": "f1faa5d2-7586-452f-a97c-7e598be0f75c"
      },
      "execution_count": 22,
      "outputs": [
        {
          "output_type": "stream",
          "name": "stdout",
          "text": [
            "+-----------+------+----+----------------+------+------+---------+-------+\n",
            "|employee_id|  name| doj|employee_dept_id|gender|salary|dept_name|dept_id|\n",
            "+-----------+------+----+----------------+------+------+---------+-------+\n",
            "|         60| Rasul|2014|             500|     M|  5000|     null|   null|\n",
            "|         10|   Raj|1999|             100|     M|  2000|       HR|    100|\n",
            "|         30|Raghav|2018|             100|     M|  6000|       HR|    100|\n",
            "|         40|  Raja|2004|             100|     F|  7000|       HR|    100|\n",
            "|         20| Rahul|2002|             200|     M|  8000|   Supply|    200|\n",
            "|         50|  Rama|2008|             400|     F|  1000|    Stock|    400|\n",
            "+-----------+------+----+----------------+------+------+---------+-------+\n",
            "\n"
          ]
        }
      ]
    },
    {
      "cell_type": "markdown",
      "source": [
        "# Right Join"
      ],
      "metadata": {
        "id": "hp46-02IHWE3"
      }
    },
    {
      "cell_type": "code",
      "source": [
        "df_join= employeeDF.join(departmentDF, employeeDF.employee_dept_id==departmentDF.dept_id,\"right\")"
      ],
      "metadata": {
        "id": "a8HnUqBEHIrD"
      },
      "execution_count": 23,
      "outputs": []
    },
    {
      "cell_type": "code",
      "source": [
        "df_join.show()"
      ],
      "metadata": {
        "colab": {
          "base_uri": "https://localhost:8080/"
        },
        "id": "5ETeihttHaB6",
        "outputId": "33306a95-7113-48ac-910d-6576a416fe17"
      },
      "execution_count": 24,
      "outputs": [
        {
          "output_type": "stream",
          "name": "stdout",
          "text": [
            "+-----------+------+----+----------------+------+------+---------+-------+\n",
            "|employee_id|  name| doj|employee_dept_id|gender|salary|dept_name|dept_id|\n",
            "+-----------+------+----+----------------+------+------+---------+-------+\n",
            "|         10|   Raj|1999|             100|     M|  2000|       HR|    100|\n",
            "|         30|Raghav|2018|             100|     M|  6000|       HR|    100|\n",
            "|         40|  Raja|2004|             100|     F|  7000|       HR|    100|\n",
            "|         20| Rahul|2002|             200|     M|  8000|   Supply|    200|\n",
            "|         50|  Rama|2008|             400|     F|  1000|    Stock|    400|\n",
            "|       null|  null|null|            null|  null|  null|    Sales|    300|\n",
            "+-----------+------+----+----------------+------+------+---------+-------+\n",
            "\n"
          ]
        }
      ]
    },
    {
      "cell_type": "markdown",
      "source": [
        "# Left Semi Join"
      ],
      "metadata": {
        "id": "uE1WDAB8Hphl"
      }
    },
    {
      "cell_type": "code",
      "source": [
        "df_join= employeeDF.join(departmentDF, employeeDF.employee_dept_id==departmentDF.dept_id,\"left_semi\")"
      ],
      "metadata": {
        "id": "G41aL6yHHclz"
      },
      "execution_count": 26,
      "outputs": []
    },
    {
      "cell_type": "code",
      "source": [
        "df_join.show()"
      ],
      "metadata": {
        "colab": {
          "base_uri": "https://localhost:8080/"
        },
        "id": "rshyTU0bHvNv",
        "outputId": "431027c7-a5b2-4566-959e-e91868b0b400"
      },
      "execution_count": 27,
      "outputs": [
        {
          "output_type": "stream",
          "name": "stdout",
          "text": [
            "+-----------+------+----+----------------+------+------+\n",
            "|employee_id|  name| doj|employee_dept_id|gender|salary|\n",
            "+-----------+------+----+----------------+------+------+\n",
            "|         10|   Raj|1999|             100|     M|  2000|\n",
            "|         30|Raghav|2018|             100|     M|  6000|\n",
            "|         40|  Raja|2004|             100|     F|  7000|\n",
            "|         20| Rahul|2002|             200|     M|  8000|\n",
            "|         50|  Rama|2008|             400|     F|  1000|\n",
            "+-----------+------+----+----------------+------+------+\n",
            "\n"
          ]
        }
      ]
    },
    {
      "cell_type": "markdown",
      "source": [
        "# Left anti Join"
      ],
      "metadata": {
        "id": "PksZRA5xIwp3"
      }
    },
    {
      "cell_type": "code",
      "source": [
        "df_join= employeeDF.join(departmentDF, employeeDF.employee_dept_id==departmentDF.dept_id,\"left_anti\")"
      ],
      "metadata": {
        "id": "CXZlqGc8H0GH"
      },
      "execution_count": 29,
      "outputs": []
    },
    {
      "cell_type": "code",
      "source": [
        "df_join.show()"
      ],
      "metadata": {
        "colab": {
          "base_uri": "https://localhost:8080/"
        },
        "id": "Rf0q9PNNIzZL",
        "outputId": "8ccbfd4a-a905-4c5e-bf30-b75298597aa2"
      },
      "execution_count": 30,
      "outputs": [
        {
          "output_type": "stream",
          "name": "stdout",
          "text": [
            "+-----------+-----+----+----------------+------+------+\n",
            "|employee_id| name| doj|employee_dept_id|gender|salary|\n",
            "+-----------+-----+----+----------------+------+------+\n",
            "|         60|Rasul|2014|             500|     M|  5000|\n",
            "+-----------+-----+----+----------------+------+------+\n",
            "\n"
          ]
        }
      ]
    },
    {
      "cell_type": "code",
      "source": [],
      "metadata": {
        "id": "D4zP6zV3I4t9"
      },
      "execution_count": null,
      "outputs": []
    }
  ]
}