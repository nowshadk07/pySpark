{
  "nbformat": 4,
  "nbformat_minor": 0,
  "metadata": {
    "colab": {
      "provenance": []
    },
    "kernelspec": {
      "name": "python3",
      "display_name": "Python 3"
    },
    "language_info": {
      "name": "python"
    }
  },
  "cells": [
    {
      "cell_type": "markdown",
      "source": [
        "1.Add  column to say yes or no whether the country is Mexico\n",
        "2.Group by your new column and sum bytes used\n",
        "3.Group by Country and use the sqlfunc.countDistinct functions to calculate the number of IP addresses seen in each country."
      ],
      "metadata": {
        "id": "rurU93_SL6cv"
      }
    },
    {
      "cell_type": "code",
      "execution_count": 1,
      "metadata": {
        "id": "KeOZ3oYWHcrA"
      },
      "outputs": [],
      "source": [
        "!apt-get install openjdk-8-jdk-headless -qq > /dev/null\n",
        "!wget -q http://archive.apache.org/dist/spark/spark-3.1.1/spark-3.1.1-bin-hadoop3.2.tgz\n",
        "!tar xf spark-3.1.1-bin-hadoop3.2.tgz\n",
        "!pip install -q findspark\n",
        "import os\n",
        "os.environ[\"JAVA_HOME\"] = \"/usr/lib/jvm/java-8-openjdk-amd64\"\n",
        "os.environ[\"SPARK_HOME\"] = \"/content/spark-3.1.1-bin-hadoop3.2\"\n",
        "import findspark\n",
        "findspark.init()\n",
        "from pyspark.sql import SparkSession\n",
        "spark = SparkSession.builder.master(\"local[*]\").getOrCreate()"
      ]
    },
    {
      "cell_type": "code",
      "source": [
        "df=spark.read.csv('challenge.csv',header=True,)"
      ],
      "metadata": {
        "id": "Jj3cmW4uHv5b"
      },
      "execution_count": 2,
      "outputs": []
    },
    {
      "cell_type": "code",
      "source": [
        "from pyspark.sql.functions import *\n",
        "import pyspark.sql.functions as sqlfunc"
      ],
      "metadata": {
        "id": "XUWLmQHlJqSC"
      },
      "execution_count": 15,
      "outputs": []
    },
    {
      "cell_type": "code",
      "source": [
        "df.show()"
      ],
      "metadata": {
        "colab": {
          "base_uri": "https://localhost:8080/"
        },
        "id": "6Bjv45ERIU0L",
        "outputId": "cb1d7c85-2890-4f76-b43c-9e80e2de58a3"
      },
      "execution_count": 3,
      "outputs": [
        {
          "output_type": "stream",
          "name": "stdout",
          "text": [
            "+---------------+--------------+-----------------+----------+\n",
            "|     ip_address|       Country|      Domain Name|Bytes_used|\n",
            "+---------------+--------------+-----------------+----------+\n",
            "|  52.81.192.172|         China| odnoklassniki.ru|       463|\n",
            "| 119.239.207.13|         China|         youtu.be|        51|\n",
            "|  68.69.217.210|         China|        adobe.com|        10|\n",
            "|   7.191.21.223|      Bulgaria|     linkedin.com|       853|\n",
            "|   211.13.10.68|     Indonesia|          hud.gov|        29|\n",
            "|   239.80.21.97|      Suriname|       smh.com.au|       218|\n",
            "|106.214.106.233|       Jamaica|    amazonaws.com|        95|\n",
            "| 127.242.24.138|         China| surveymonkey.com|       123|\n",
            "|     99.2.6.139|Czech Republic|     geocities.jp|       322|\n",
            "|   237.54.11.63|         China|       amazon.com|        83|\n",
            "| 252.141.157.25|         Japan|      cornell.edu|       374|\n",
            "|185.220.128.248|       Belgium|       weebly.com|       389|\n",
            "|   151.77.19.45|   Afghanistan|independent.co.uk|       282|\n",
            "|  9.161.158.225|     Indonesia|    bloglines.com|       726|\n",
            "| 156.144.61.155|Czech Republic|   slideshare.net|       657|\n",
            "|   8.96.188.151|     Indonesia|          ibm.com|       517|\n",
            "|      5.72.7.65|        Mexico|         youtu.be|       877|\n",
            "|227.110.112.144|       Croatia|         ehow.com|       287|\n",
            "|    81.71.28.97|      Thailand|          last.fm|       588|\n",
            "|  9.255.129.184|      Thailand|          mtv.com|       114|\n",
            "+---------------+--------------+-----------------+----------+\n",
            "only showing top 20 rows\n",
            "\n"
          ]
        }
      ]
    },
    {
      "cell_type": "code",
      "source": [],
      "metadata": {
        "id": "NjYz5qGFJeDn"
      },
      "execution_count": null,
      "outputs": []
    },
    {
      "cell_type": "code",
      "source": [
        "df1=df.withColumn('IsMexico', when(df.Country=='Mexico','Yes').otherwise('No'))"
      ],
      "metadata": {
        "id": "3Y8y9snBIYBF"
      },
      "execution_count": 13,
      "outputs": []
    },
    {
      "cell_type": "code",
      "source": [
        "df1.show()"
      ],
      "metadata": {
        "colab": {
          "base_uri": "https://localhost:8080/"
        },
        "id": "Tuhg_nT9Ju2q",
        "outputId": "35b9b56a-11b4-4004-e125-bb028e3cd718"
      },
      "execution_count": 20,
      "outputs": [
        {
          "output_type": "stream",
          "name": "stdout",
          "text": [
            "+---------------+--------------+-----------------+----------+--------+\n",
            "|     ip_address|       Country|      Domain Name|Bytes_used|IsMexico|\n",
            "+---------------+--------------+-----------------+----------+--------+\n",
            "|  52.81.192.172|         China| odnoklassniki.ru|       463|      No|\n",
            "| 119.239.207.13|         China|         youtu.be|        51|      No|\n",
            "|  68.69.217.210|         China|        adobe.com|        10|      No|\n",
            "|   7.191.21.223|      Bulgaria|     linkedin.com|       853|      No|\n",
            "|   211.13.10.68|     Indonesia|          hud.gov|        29|      No|\n",
            "|   239.80.21.97|      Suriname|       smh.com.au|       218|      No|\n",
            "|106.214.106.233|       Jamaica|    amazonaws.com|        95|      No|\n",
            "| 127.242.24.138|         China| surveymonkey.com|       123|      No|\n",
            "|     99.2.6.139|Czech Republic|     geocities.jp|       322|      No|\n",
            "|   237.54.11.63|         China|       amazon.com|        83|      No|\n",
            "| 252.141.157.25|         Japan|      cornell.edu|       374|      No|\n",
            "|185.220.128.248|       Belgium|       weebly.com|       389|      No|\n",
            "|   151.77.19.45|   Afghanistan|independent.co.uk|       282|      No|\n",
            "|  9.161.158.225|     Indonesia|    bloglines.com|       726|      No|\n",
            "| 156.144.61.155|Czech Republic|   slideshare.net|       657|      No|\n",
            "|   8.96.188.151|     Indonesia|          ibm.com|       517|      No|\n",
            "|      5.72.7.65|        Mexico|         youtu.be|       877|     Yes|\n",
            "|227.110.112.144|       Croatia|         ehow.com|       287|      No|\n",
            "|    81.71.28.97|      Thailand|          last.fm|       588|      No|\n",
            "|  9.255.129.184|      Thailand|          mtv.com|       114|      No|\n",
            "+---------------+--------------+-----------------+----------+--------+\n",
            "only showing top 20 rows\n",
            "\n"
          ]
        }
      ]
    },
    {
      "cell_type": "code",
      "source": [
        "df2=df1.groupBy('IsMexico').agg(sqlfunc.sum(df1.Bytes_used).alias('total_used'))"
      ],
      "metadata": {
        "id": "iSNIAiCYL0vG"
      },
      "execution_count": 23,
      "outputs": []
    },
    {
      "cell_type": "code",
      "source": [
        "df2.show()"
      ],
      "metadata": {
        "colab": {
          "base_uri": "https://localhost:8080/"
        },
        "id": "MnU5m_5hMpAq",
        "outputId": "4a58fdf4-a75f-4f7f-8d9e-6a29fb4bc423"
      },
      "execution_count": 24,
      "outputs": [
        {
          "output_type": "stream",
          "name": "stdout",
          "text": [
            "+--------+----------+\n",
            "|IsMexico|total_used|\n",
            "+--------+----------+\n",
            "|      No|  508076.0|\n",
            "|     Yes|    6293.0|\n",
            "+--------+----------+\n",
            "\n"
          ]
        }
      ]
    },
    {
      "cell_type": "code",
      "source": [
        "df3=df.groupBy('Country').agg(sqlfunc.countDistinct(df.ip_address).alias('number_of_ips'))"
      ],
      "metadata": {
        "id": "UN_7awcNMvFx"
      },
      "execution_count": 25,
      "outputs": []
    },
    {
      "cell_type": "code",
      "source": [
        "df3.sort(col('number_of_ips').desc()).show()"
      ],
      "metadata": {
        "colab": {
          "base_uri": "https://localhost:8080/"
        },
        "id": "dJ0vJiFANbqb",
        "outputId": "3c833ec9-0034-45df-be66-cba140a2d279"
      },
      "execution_count": 26,
      "outputs": [
        {
          "output_type": "stream",
          "name": "stdout",
          "text": [
            "+--------------+-------------+\n",
            "|       Country|number_of_ips|\n",
            "+--------------+-------------+\n",
            "|         China|          172|\n",
            "|     Indonesia|          114|\n",
            "|   Philippines|           65|\n",
            "|        Russia|           56|\n",
            "|        Brazil|           35|\n",
            "|        Poland|           31|\n",
            "|        Sweden|           28|\n",
            "|         Japan|           25|\n",
            "|      Portugal|           23|\n",
            "|Czech Republic|           23|\n",
            "|        France|           21|\n",
            "|          Peru|           19|\n",
            "|      Colombia|           17|\n",
            "| United States|           15|\n",
            "|       Ukraine|           14|\n",
            "|     Argentina|           14|\n",
            "|        Mexico|           13|\n",
            "|      Thailand|           12|\n",
            "|       Nigeria|           11|\n",
            "|        Canada|           11|\n",
            "+--------------+-------------+\n",
            "only showing top 20 rows\n",
            "\n"
          ]
        }
      ]
    },
    {
      "cell_type": "code",
      "source": [],
      "metadata": {
        "id": "sScPp6-lND6J"
      },
      "execution_count": null,
      "outputs": []
    }
  ]
}