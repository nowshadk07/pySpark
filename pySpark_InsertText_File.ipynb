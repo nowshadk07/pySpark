{
  "nbformat": 4,
  "nbformat_minor": 0,
  "metadata": {
    "colab": {
      "provenance": []
    },
    "kernelspec": {
      "name": "python3",
      "display_name": "Python 3"
    },
    "language_info": {
      "name": "python"
    }
  },
  "cells": [
    {
      "cell_type": "code",
      "execution_count": null,
      "metadata": {
        "id": "Qpy55sglbM5o"
      },
      "outputs": [],
      "source": [
        "!apt-get install openjdk-8-jdk-headless -qq > /dev/null\n",
        "!wget -q http://archive.apache.org/dist/spark/spark-3.1.1/spark-3.1.1-bin-hadoop3.2.tgz\n",
        "!tar xf spark-3.1.1-bin-hadoop3.2.tgz\n",
        "!pip install -q findspark\n",
        "import os\n",
        "os.environ[\"JAVA_HOME\"] = \"/usr/lib/jvm/java-8-openjdk-amd64\"\n",
        "os.environ[\"SPARK_HOME\"] = \"/content/spark-3.1.1-bin-hadoop3.2\"\n",
        "import findspark\n",
        "findspark.init()\n",
        "from pyspark.sql import SparkSession\n",
        "spark = SparkSession.builder.master(\"local[*]\").getOrCreate()"
      ]
    },
    {
      "cell_type": "code",
      "source": [
        "from pyspark.sql import SparkSession\n",
        "\n",
        "# Initialize a Spark session\n",
        "spark = SparkSession.builder.appName(\"LoadDataIntoHive\").enableHiveSupport().getOrCreate()\n"
      ],
      "metadata": {
        "id": "_iHyli3UbTHx"
      },
      "execution_count": null,
      "outputs": []
    },
    {
      "cell_type": "code",
      "source": [
        "from pyspark.sql.types import StructType, StructField, StringType\n",
        "\n",
        "# Define the schema for the Hive table\n",
        "schema = StructType([\n",
        "    StructField(\"data\", StringType(), True)\n",
        "])\n"
      ],
      "metadata": {
        "id": "DRenaZX2bWo4"
      },
      "execution_count": null,
      "outputs": []
    },
    {
      "cell_type": "code",
      "source": [
        "# Create a Hive table\n",
        "spark.sql(\"CREATE TABLE IF NOT EXISTS my_hive_table (data STRING) ROW FORMAT DELIMITED FIELDS TERMINATED BY ','\")\n"
      ],
      "metadata": {
        "id": "wGdbWvtQbasA"
      },
      "execution_count": null,
      "outputs": []
    },
    {
      "cell_type": "code",
      "source": [
        "# Load data from the text file into a DataFrame\n",
        "data_file_path = \"path_to_your_text_file.txt\"\n",
        "data_df = spark.read.csv(data_file_path, schema=schema, header=False, sep=\",\")\n"
      ],
      "metadata": {
        "id": "vW2PYlbAbczx"
      },
      "execution_count": null,
      "outputs": []
    },
    {
      "cell_type": "code",
      "source": [
        "# Insert the data into the Hive table\n",
        "data_df.write.insertInto(\"my_hive_table\")\n"
      ],
      "metadata": {
        "id": "TwNIdt-mbdeb"
      },
      "execution_count": null,
      "outputs": []
    },
    {
      "cell_type": "code",
      "source": [
        "spark.stop()"
      ],
      "metadata": {
        "id": "LtctSSJybfmT"
      },
      "execution_count": null,
      "outputs": []
    }
  ]
}